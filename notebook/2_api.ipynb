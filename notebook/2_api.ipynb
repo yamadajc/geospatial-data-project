{
 "cells": [
  {
   "cell_type": "markdown",
   "id": "linear-printing",
   "metadata": {},
   "source": [
    "## Librerias"
   ]
  },
  {
   "cell_type": "code",
   "execution_count": 24,
   "id": "convertible-fountain",
   "metadata": {},
   "outputs": [],
   "source": [
    "import pymongo\n",
    "from pymongo import MongoClient\n",
    "import geopandas as gpd\n",
    "import pandas as pd\n",
    "from pandas import DataFrame\n",
    "from dotenv import load_dotenv\n",
    "import os\n",
    "import requests\n",
    "import json\n",
    "\n",
    "from functools import reduce\n",
    "import operator\n",
    "\n",
    "load_dotenv()\n",
    "\n",
    "import sys\n",
    "sys.path.append('../')\n",
    "import src.Fapis as fap"
   ]
  },
  {
   "cell_type": "markdown",
   "id": "mobile-composite",
   "metadata": {},
   "source": [
    "## Importacion de datos"
   ]
  },
  {
   "cell_type": "code",
   "execution_count": 4,
   "id": "partial-cambodia",
   "metadata": {},
   "outputs": [],
   "source": [
    "oficina = pd.read_csv('../data/companies.csv',encoding = 'ISO - 8859-1')\n"
   ]
  },
  {
   "cell_type": "code",
   "execution_count": 5,
   "id": "italic-compensation",
   "metadata": {},
   "outputs": [
    {
     "data": {
      "text/html": [
       "<div>\n",
       "<style scoped>\n",
       "    .dataframe tbody tr th:only-of-type {\n",
       "        vertical-align: middle;\n",
       "    }\n",
       "\n",
       "    .dataframe tbody tr th {\n",
       "        vertical-align: top;\n",
       "    }\n",
       "\n",
       "    .dataframe thead th {\n",
       "        text-align: right;\n",
       "    }\n",
       "</style>\n",
       "<table border=\"1\" class=\"dataframe\">\n",
       "  <thead>\n",
       "    <tr style=\"text-align: right;\">\n",
       "      <th></th>\n",
       "      <th>city</th>\n",
       "      <th>latitude</th>\n",
       "      <th>longitude</th>\n",
       "      <th>name</th>\n",
       "      <th>category_code</th>\n",
       "      <th>number_of_employees</th>\n",
       "      <th>founded_year</th>\n",
       "    </tr>\n",
       "  </thead>\n",
       "  <tbody>\n",
       "    <tr>\n",
       "      <th>0</th>\n",
       "      <td>Madrid</td>\n",
       "      <td>40.530724</td>\n",
       "      <td>-3.632687</td>\n",
       "      <td>Fon</td>\n",
       "      <td>mobile</td>\n",
       "      <td>100</td>\n",
       "      <td>2006</td>\n",
       "    </tr>\n",
       "    <tr>\n",
       "      <th>1</th>\n",
       "      <td>Madrid</td>\n",
       "      <td>40.415824</td>\n",
       "      <td>-3.696277</td>\n",
       "      <td>Tuenti Technologies</td>\n",
       "      <td>social</td>\n",
       "      <td>170</td>\n",
       "      <td>2006</td>\n",
       "    </tr>\n",
       "  </tbody>\n",
       "</table>\n",
       "</div>"
      ],
      "text/plain": [
       "     city   latitude  longitude                 name category_code  \\\n",
       "0  Madrid  40.530724  -3.632687                  Fon        mobile   \n",
       "1  Madrid  40.415824  -3.696277  Tuenti Technologies        social   \n",
       "\n",
       "   number_of_employees  founded_year  \n",
       "0                  100          2006  \n",
       "1                  170          2006  "
      ]
     },
     "execution_count": 5,
     "metadata": {},
     "output_type": "execute_result"
    }
   ],
   "source": [
    "dfoficinas = pd.DataFrame(oficina)\n",
    "dfoficinas"
   ]
  },
  {
   "cell_type": "code",
   "execution_count": 7,
   "id": "raising-recruitment",
   "metadata": {},
   "outputs": [
    {
     "data": {
      "text/plain": [
       "{'Fon': {'type': 'Point', 'coordinates': [40.530724, -3.632687]},\n",
       " 'Tuenti Technologies': {'type': 'Point',\n",
       "  'coordinates': [40.4158236, -3.696277]}}"
      ]
     },
     "execution_count": 7,
     "metadata": {},
     "output_type": "execute_result"
    }
   ],
   "source": [
    "# comprobacion de geoenterprise\n",
    "company_location = fap.geoenterprise(dfoficinas)\n",
    "company_location"
   ]
  },
  {
   "cell_type": "markdown",
   "id": "available-accountability",
   "metadata": {},
   "source": [
    "## LLamadas a API"
   ]
  },
  {
   "cell_type": "markdown",
   "id": "ranging-titanium",
   "metadata": {},
   "source": [
    "### tuenti"
   ]
  },
  {
   "cell_type": "code",
   "execution_count": 51,
   "id": "loving-brown",
   "metadata": {},
   "outputs": [],
   "source": [
    "la = company_location['Tuenti Technologies']['coordinates'][0]\n",
    "lg = company_location['Tuenti Technologies']['coordinates'][1]"
   ]
  },
  {
   "cell_type": "markdown",
   "id": "abandoned-cemetery",
   "metadata": {},
   "source": [
    "###### Starbucks"
   ]
  },
  {
   "cell_type": "code",
   "execution_count": 52,
   "id": "wired-energy",
   "metadata": {},
   "outputs": [],
   "source": [
    "tok1 = os.getenv(\"tok1\")\n",
    "tok2 = os.getenv(\"tok2\") \n",
    "url_query = 'https://api.foursquare.com/v2/venues/explore'\n",
    "\n",
    "query = 'starbucks'\n",
    "parametros = {'client_id':tok1,\n",
    "              'client_secret':tok2,\n",
    "              'v':'20180323',\n",
    "              'll':f'{la},{lg}',\n",
    "              'query': query,\n",
    "              'limit':50\n",
    "             }\n",
    "# Generamos Request \n",
    "resp = requests.get(url=url_query,params=parametros)\n",
    "data =json.loads(resp.text)\n"
   ]
  },
  {
   "cell_type": "code",
   "execution_count": 53,
   "id": "revolutionary-flesh",
   "metadata": {},
   "outputs": [],
   "source": [
    "############### DECODING ###########\n",
    "decoding_data = data.get(\"response\")\n",
    "decoded = decoding_data.get('groups')[0]\n",
    "starbucks =decoded.get('items')"
   ]
  },
  {
   "cell_type": "code",
   "execution_count": 54,
   "id": "structural-electric",
   "metadata": {},
   "outputs": [],
   "source": [
    "# creacion de DF con los datos del json\n",
    "mapa_nombre =['venue','name']\n",
    "m_latitud =['venue','location','lat']\n",
    "m_longitud = ['venue','location','lng']"
   ]
  },
  {
   "cell_type": "code",
   "execution_count": 55,
   "id": "daily-warner",
   "metadata": {},
   "outputs": [],
   "source": [
    "# introducimos los datos de json en DF \n",
    "lovemosclaro = []\n",
    "for dic in starbucks:\n",
    "    paralista ={}\n",
    "    paralista['enterprise'] = 'Tuenti Technologies'\n",
    "    paralista['team'] = 'Executives'\n",
    "    paralista['requirements'] = 'starbucks'\n",
    "    paralista['name'] = getFromDict(dic,mapa_nombre)\n",
    "    paralista['latitud'] = getFromDict(dic,m_latitud)\n",
    "    paralista['longitud'] = getFromDict(dic,m_longitud)\n",
    "    lovemosclaro.append(paralista)\n"
   ]
  },
  {
   "cell_type": "code",
   "execution_count": 80,
   "id": "afraid-efficiency",
   "metadata": {},
   "outputs": [
    {
     "data": {
      "text/html": [
       "<div>\n",
       "<style scoped>\n",
       "    .dataframe tbody tr th:only-of-type {\n",
       "        vertical-align: middle;\n",
       "    }\n",
       "\n",
       "    .dataframe tbody tr th {\n",
       "        vertical-align: top;\n",
       "    }\n",
       "\n",
       "    .dataframe thead th {\n",
       "        text-align: right;\n",
       "    }\n",
       "</style>\n",
       "<table border=\"1\" class=\"dataframe\">\n",
       "  <thead>\n",
       "    <tr style=\"text-align: right;\">\n",
       "      <th></th>\n",
       "      <th>enterprise</th>\n",
       "      <th>team</th>\n",
       "      <th>requirements</th>\n",
       "      <th>name</th>\n",
       "      <th>latitud</th>\n",
       "      <th>longitud</th>\n",
       "    </tr>\n",
       "  </thead>\n",
       "  <tbody>\n",
       "    <tr>\n",
       "      <th>0</th>\n",
       "      <td>Fon</td>\n",
       "      <td>Account</td>\n",
       "      <td>Airport Terminal</td>\n",
       "      <td>T4 Salidas</td>\n",
       "      <td>40.406544</td>\n",
       "      <td>-3.682036</td>\n",
       "    </tr>\n",
       "  </tbody>\n",
       "</table>\n",
       "</div>"
      ],
      "text/plain": [
       "  enterprise     team      requirements        name    latitud  longitud\n",
       "0        Fon  Account  Airport Terminal  T4 Salidas  40.406544 -3.682036"
      ]
     },
     "execution_count": 80,
     "metadata": {},
     "output_type": "execute_result"
    }
   ],
   "source": [
    "#creamos un data frame con lista de dicionarios si y solo si siempre son las mismas key y mismos values\n",
    "gdf_starbucks_1 =pd.DataFrame(lovemosclaro)\n",
    "gdf_starbucks_1[:3]"
   ]
  },
  {
   "cell_type": "markdown",
   "id": "pointed-white",
   "metadata": {},
   "source": [
    "######  Museos"
   ]
  },
  {
   "cell_type": "code",
   "execution_count": 57,
   "id": "empty-recall",
   "metadata": {},
   "outputs": [
    {
     "data": {
      "text/plain": [
       "'# gpd.points_from_xy esto siempre stiene que estar escrito asi \\ngdf_museum_1 = gpd.GeoDataFrame(dataframefinal_1,geometry =gpd.points_from_xy(dataframefinal_1.longitud,dataframefinal_1.latitud))\\ngdf_museum_1'"
      ]
     },
     "execution_count": 57,
     "metadata": {},
     "output_type": "execute_result"
    }
   ],
   "source": [
    "query = 'Museum'\n",
    "parametros = {'client_id':tok1,\n",
    "              'client_secret':tok2,\n",
    "              'v':'20180323',\n",
    "              'll':f'{la},{lg}',\n",
    "              'query': query,\n",
    "              'limit':50\n",
    "             }\n",
    "# Generamos Request \n",
    "resp = requests.get(url=url_query,params=parametros)\n",
    "data =json.loads(resp.text)\n",
    "############### DECODING ###########\n",
    "decoding_data = data.get(\"response\")\n",
    "decoded = decoding_data.get('groups')[0]\n",
    "museum =decoded.get('items')\n",
    "# introducimos los datos de json en DF \n",
    "lovemosclaro = []\n",
    "for dic in museum:\n",
    "    paralista ={}\n",
    "    paralista['enterprise'] = 'Tuenti Technologies'\n",
    "    paralista['team'] = 'Designers'\n",
    "    paralista['requirements'] = 'Museum'\n",
    "    paralista['name'] = getFromDict(dic,mapa_nombre)\n",
    "    paralista['latitud'] = getFromDict(dic,m_latitud)\n",
    "    paralista['longitud'] = getFromDict(dic,m_longitud)\n",
    "    lovemosclaro.append(paralista)\n",
    "#creamos un data frame con lista de dicionarios si y solo si siempre son las mismas key y mismos values\n",
    "gdf_museum_1 =pd.DataFrame(lovemosclaro)"
   ]
  },
  {
   "cell_type": "code",
   "execution_count": 81,
   "id": "spare-interest",
   "metadata": {},
   "outputs": [
    {
     "data": {
      "text/html": [
       "<div>\n",
       "<style scoped>\n",
       "    .dataframe tbody tr th:only-of-type {\n",
       "        vertical-align: middle;\n",
       "    }\n",
       "\n",
       "    .dataframe tbody tr th {\n",
       "        vertical-align: top;\n",
       "    }\n",
       "\n",
       "    .dataframe thead th {\n",
       "        text-align: right;\n",
       "    }\n",
       "</style>\n",
       "<table border=\"1\" class=\"dataframe\">\n",
       "  <thead>\n",
       "    <tr style=\"text-align: right;\">\n",
       "      <th></th>\n",
       "      <th>enterprise</th>\n",
       "      <th>team</th>\n",
       "      <th>requirements</th>\n",
       "      <th>name</th>\n",
       "      <th>latitud</th>\n",
       "      <th>longitud</th>\n",
       "    </tr>\n",
       "  </thead>\n",
       "  <tbody>\n",
       "    <tr>\n",
       "      <th>0</th>\n",
       "      <td>Tuenti Technologies</td>\n",
       "      <td>Designers</td>\n",
       "      <td>Museum</td>\n",
       "      <td>Museo Thyssen-Bornemisza</td>\n",
       "      <td>40.416359</td>\n",
       "      <td>-3.694891</td>\n",
       "    </tr>\n",
       "    <tr>\n",
       "      <th>1</th>\n",
       "      <td>Tuenti Technologies</td>\n",
       "      <td>Designers</td>\n",
       "      <td>Museum</td>\n",
       "      <td>Casa Museo Lope de Vega</td>\n",
       "      <td>40.414326</td>\n",
       "      <td>-3.697468</td>\n",
       "    </tr>\n",
       "    <tr>\n",
       "      <th>2</th>\n",
       "      <td>Tuenti Technologies</td>\n",
       "      <td>Designers</td>\n",
       "      <td>Museum</td>\n",
       "      <td>Círculo de Bellas Artes</td>\n",
       "      <td>40.418486</td>\n",
       "      <td>-3.696612</td>\n",
       "    </tr>\n",
       "  </tbody>\n",
       "</table>\n",
       "</div>"
      ],
      "text/plain": [
       "            enterprise       team requirements                      name  \\\n",
       "0  Tuenti Technologies  Designers       Museum  Museo Thyssen-Bornemisza   \n",
       "1  Tuenti Technologies  Designers       Museum   Casa Museo Lope de Vega   \n",
       "2  Tuenti Technologies  Designers       Museum   Círculo de Bellas Artes   \n",
       "\n",
       "     latitud  longitud  \n",
       "0  40.416359 -3.694891  \n",
       "1  40.414326 -3.697468  \n",
       "2  40.418486 -3.696612  "
      ]
     },
     "execution_count": 81,
     "metadata": {},
     "output_type": "execute_result"
    }
   ],
   "source": [
    "gdf_museum_1[:3]"
   ]
  },
  {
   "cell_type": "markdown",
   "id": "affiliated-patrick",
   "metadata": {},
   "source": [
    "######  Aereopuerto"
   ]
  },
  {
   "cell_type": "code",
   "execution_count": 82,
   "id": "mounted-relationship",
   "metadata": {},
   "outputs": [],
   "source": [
    "query = 'Airport Terminal'\n",
    "parametros = {'client_id':tok1,\n",
    "              'client_secret':tok2,\n",
    "              'v':'20180323',\n",
    "              'll':f'{la},{lg}',\n",
    "              'query': query,\n",
    "              'limit':50\n",
    "             }\n",
    "# Generamos Request \n",
    "resp = requests.get(url=url_query,params=parametros)\n",
    "data =json.loads(resp.text)\n",
    "############### DECODING ###########\n",
    "decoding_data = data.get(\"response\")\n",
    "decoded = decoding_data.get('groups')[0]\n",
    "airport =decoded.get('items')\n",
    "# introducimos los datos de json en DF \n",
    "lovemosclaro = []\n",
    "for dic in airport:\n",
    "    paralista ={}\n",
    "    paralista['enterprise'] = 'Tuenti Technologies'\n",
    "    paralista['team'] = 'Account'\n",
    "    paralista['requirements'] = 'Airport Terminal'\n",
    "    paralista['name'] = getFromDict(dic,mapa_nombre)\n",
    "    paralista['latitud'] = getFromDict(dic,m_latitud)\n",
    "    paralista['longitud'] = getFromDict(dic,m_longitud)\n",
    "    lovemosclaro.append(paralista)\n",
    "#creamos un data frame con lista de dicionarios si y solo si siempre son las mismas key y mismos values\n",
    "gdf_airport_1 =pd.DataFrame(lovemosclaro)"
   ]
  },
  {
   "cell_type": "code",
   "execution_count": 83,
   "id": "wireless-glossary",
   "metadata": {},
   "outputs": [],
   "source": [
    "dfFinal_Tuenti = pd.concat([gdf_starbucks_1 , gdf_museum_1, gdf_airport_1])"
   ]
  },
  {
   "cell_type": "code",
   "execution_count": 84,
   "id": "official-mississippi",
   "metadata": {},
   "outputs": [
    {
     "data": {
      "text/html": [
       "<div>\n",
       "<style scoped>\n",
       "    .dataframe tbody tr th:only-of-type {\n",
       "        vertical-align: middle;\n",
       "    }\n",
       "\n",
       "    .dataframe tbody tr th {\n",
       "        vertical-align: top;\n",
       "    }\n",
       "\n",
       "    .dataframe thead th {\n",
       "        text-align: right;\n",
       "    }\n",
       "</style>\n",
       "<table border=\"1\" class=\"dataframe\">\n",
       "  <thead>\n",
       "    <tr style=\"text-align: right;\">\n",
       "      <th></th>\n",
       "      <th>enterprise</th>\n",
       "      <th>team</th>\n",
       "      <th>requirements</th>\n",
       "      <th>name</th>\n",
       "      <th>latitud</th>\n",
       "      <th>longitud</th>\n",
       "    </tr>\n",
       "  </thead>\n",
       "  <tbody>\n",
       "    <tr>\n",
       "      <th>0</th>\n",
       "      <td>Fon</td>\n",
       "      <td>Account</td>\n",
       "      <td>Airport Terminal</td>\n",
       "      <td>T4 Salidas</td>\n",
       "      <td>40.406544</td>\n",
       "      <td>-3.682036</td>\n",
       "    </tr>\n",
       "    <tr>\n",
       "      <th>0</th>\n",
       "      <td>Tuenti Technologies</td>\n",
       "      <td>Designers</td>\n",
       "      <td>Museum</td>\n",
       "      <td>Museo Thyssen-Bornemisza</td>\n",
       "      <td>40.416359</td>\n",
       "      <td>-3.694891</td>\n",
       "    </tr>\n",
       "    <tr>\n",
       "      <th>1</th>\n",
       "      <td>Tuenti Technologies</td>\n",
       "      <td>Designers</td>\n",
       "      <td>Museum</td>\n",
       "      <td>Casa Museo Lope de Vega</td>\n",
       "      <td>40.414326</td>\n",
       "      <td>-3.697468</td>\n",
       "    </tr>\n",
       "  </tbody>\n",
       "</table>\n",
       "</div>"
      ],
      "text/plain": [
       "            enterprise       team      requirements                      name  \\\n",
       "0                  Fon    Account  Airport Terminal                T4 Salidas   \n",
       "0  Tuenti Technologies  Designers            Museum  Museo Thyssen-Bornemisza   \n",
       "1  Tuenti Technologies  Designers            Museum   Casa Museo Lope de Vega   \n",
       "\n",
       "     latitud  longitud  \n",
       "0  40.406544 -3.682036  \n",
       "0  40.416359 -3.694891  \n",
       "1  40.414326 -3.697468  "
      ]
     },
     "execution_count": 84,
     "metadata": {},
     "output_type": "execute_result"
    }
   ],
   "source": [
    "dfFinal_Tuenti[:3]"
   ]
  },
  {
   "cell_type": "markdown",
   "id": "charitable-guard",
   "metadata": {},
   "source": [
    "### Fon"
   ]
  },
  {
   "cell_type": "code",
   "execution_count": 61,
   "id": "norman-freeze",
   "metadata": {},
   "outputs": [],
   "source": [
    "# introducimos las coordenadas de las empresas PARA FON \n",
    "laf = company_location['Tuenti Technologies']['coordinates'][0]\n",
    "lgf = company_location['Tuenti Technologies']['coordinates'][1]\n"
   ]
  },
  {
   "cell_type": "markdown",
   "id": "governing-reach",
   "metadata": {},
   "source": [
    "###### Starbucks"
   ]
  },
  {
   "cell_type": "code",
   "execution_count": 72,
   "id": "configured-friday",
   "metadata": {},
   "outputs": [
    {
     "data": {
      "text/plain": [
       "'# gpd.points_from_xy esto siempre stiene que estar escrito asi \\ngdf_starbucks_2 = gpd.GeoDataFrame(dataframefinal_2,geometry =gpd.points_from_xy(dataframefinal_2.longitud,dataframefinal_2.latitud))\\ngdf_starbucks_2'"
      ]
     },
     "execution_count": 72,
     "metadata": {},
     "output_type": "execute_result"
    }
   ],
   "source": [
    "query = 'starbucks'\n",
    "parametros = {'client_id':tok1,\n",
    "              'client_secret':tok2,\n",
    "              'v':'20180323',\n",
    "              'll':f'{laf},{lgf}',\n",
    "              'query': query,\n",
    "              'limit':50\n",
    "             }\n",
    "# Generamos Request \n",
    "resp = requests.get(url=url_query,params=parametros)\n",
    "data =json.loads(resp.text)\n",
    "############### DECODING ###########\n",
    "decoding_data = data.get(\"response\")\n",
    "decoded = decoding_data.get('groups')[0]\n",
    "starbucks =decoded.get('items')\n",
    "# introducimos los datos de json en DF \n",
    "lovemosclaro = []\n",
    "for dic in starbucks:\n",
    "    paralista ={}\n",
    "    paralista['enterprise'] = 'Fon'\n",
    "    paralista['team'] = 'Executives'\n",
    "    paralista['requirements'] = 'starbucks'\n",
    "    paralista['name'] = getFromDict(dic,mapa_nombre)\n",
    "    paralista['latitud'] = getFromDict(dic,m_latitud)\n",
    "    paralista['longitud'] = getFromDict(dic,m_longitud)\n",
    "    lovemosclaro.append(paralista)\n",
    "#creamos un data frame con lista de dicionarios si y solo si siempre son las mismas key y mismos values\n",
    "gdf_starbucks_2 =pd.DataFrame(lovemosclaro)"
   ]
  },
  {
   "cell_type": "markdown",
   "id": "smaller-vessel",
   "metadata": {},
   "source": [
    "###### Museos"
   ]
  },
  {
   "cell_type": "code",
   "execution_count": 73,
   "id": "finnish-thomson",
   "metadata": {},
   "outputs": [
    {
     "data": {
      "text/plain": [
       "'# gpd.points_from_xy esto siempre stiene que estar escrito asi \\ngdf_museum_2 = gpd.GeoDataFrame(dataframefinal_2,geometry =gpd.points_from_xy(dataframefinal_2.longitud,dataframefinal_2.latitud))\\ngdf_museum_2'"
      ]
     },
     "execution_count": 73,
     "metadata": {},
     "output_type": "execute_result"
    }
   ],
   "source": [
    "query = 'Museum'\n",
    "parametros = {'client_id':tok1,\n",
    "              'client_secret':tok2,\n",
    "              'v':'20180323',\n",
    "              'll':f'{laf},{lgf}',\n",
    "              'query': query,\n",
    "              'limit':50\n",
    "             }\n",
    "# Generamos Request \n",
    "resp = requests.get(url=url_query,params=parametros)\n",
    "data =json.loads(resp.text)\n",
    "############### DECODING ###########\n",
    "decoding_data = data.get(\"response\")\n",
    "decoded = decoding_data.get('groups')[0]\n",
    "museum =decoded.get('items')\n",
    "# introducimos los datos de json en DF \n",
    "lovemosclaro = []\n",
    "for dic in museum:\n",
    "    paralista ={}\n",
    "    paralista['enterprise'] = 'Fon'\n",
    "    paralista['team'] = 'Designers'\n",
    "    paralista['requirements'] = 'Museum'\n",
    "    paralista['name'] = getFromDict(dic,mapa_nombre)\n",
    "    paralista['latitud'] = getFromDict(dic,m_latitud)\n",
    "    paralista['longitud'] = getFromDict(dic,m_longitud)\n",
    "    lovemosclaro.append(paralista)\n",
    "#creamos un data frame con lista de dicionarios si y solo si siempre son las mismas key y mismos values\n",
    "gdf_museum_2 =pd.DataFrame(lovemosclaro)"
   ]
  },
  {
   "cell_type": "markdown",
   "id": "virtual-parent",
   "metadata": {},
   "source": [
    "###### Aereopuerto"
   ]
  },
  {
   "cell_type": "code",
   "execution_count": 74,
   "id": "naval-inflation",
   "metadata": {},
   "outputs": [
    {
     "data": {
      "text/plain": [
       "'# gpd.points_from_xy esto siempre stiene que estar escrito asi \\ngdf_airport_2 = gpd.GeoDataFrame(dataframefinal_2,geometry =gpd.points_from_xy(dataframefinal_2.longitud,dataframefinal_2.latitud))\\ngdf_airport_2'"
      ]
     },
     "execution_count": 74,
     "metadata": {},
     "output_type": "execute_result"
    }
   ],
   "source": [
    "query = 'Airport Terminal'\n",
    "parametros = {'client_id':tok1,\n",
    "              'client_secret':tok2,\n",
    "              'v':'20180323',\n",
    "              'll':f'{laf},{lgf}',\n",
    "              'query': query,\n",
    "              'limit':50\n",
    "             }\n",
    "# Generamos Request \n",
    "resp = requests.get(url=url_query,params=parametros)\n",
    "data =json.loads(resp.text)\n",
    "############### DECODING ###########\n",
    "decoding_data = data.get(\"response\")\n",
    "decoded = decoding_data.get('groups')[0]\n",
    "airport =decoded.get('items')\n",
    "# introducimos los datos de json en DF \n",
    "lovemosclaro = []\n",
    "for dic in airport:\n",
    "    paralista ={}\n",
    "    paralista['enterprise'] = 'Fon'\n",
    "    paralista['team'] = 'Account'\n",
    "    paralista['requirements'] = 'Airport Terminal'\n",
    "    paralista['name'] = getFromDict(dic,mapa_nombre)\n",
    "    paralista['latitud'] = getFromDict(dic,m_latitud)\n",
    "    paralista['longitud'] = getFromDict(dic,m_longitud)\n",
    "    lovemosclaro.append(paralista)\n",
    "#creamos un data frame con lista de dicionarios si y solo si siempre son las mismas key y mismos values\n",
    "gdf_airport_2 =pd.DataFrame(lovemosclaro)"
   ]
  },
  {
   "cell_type": "code",
   "execution_count": 86,
   "id": "toxic-sense",
   "metadata": {},
   "outputs": [
    {
     "data": {
      "text/html": [
       "<div>\n",
       "<style scoped>\n",
       "    .dataframe tbody tr th:only-of-type {\n",
       "        vertical-align: middle;\n",
       "    }\n",
       "\n",
       "    .dataframe tbody tr th {\n",
       "        vertical-align: top;\n",
       "    }\n",
       "\n",
       "    .dataframe thead th {\n",
       "        text-align: right;\n",
       "    }\n",
       "</style>\n",
       "<table border=\"1\" class=\"dataframe\">\n",
       "  <thead>\n",
       "    <tr style=\"text-align: right;\">\n",
       "      <th></th>\n",
       "      <th>enterprise</th>\n",
       "      <th>team</th>\n",
       "      <th>requirements</th>\n",
       "      <th>name</th>\n",
       "      <th>latitud</th>\n",
       "      <th>longitud</th>\n",
       "    </tr>\n",
       "  </thead>\n",
       "  <tbody>\n",
       "    <tr>\n",
       "      <th>0</th>\n",
       "      <td>Fon</td>\n",
       "      <td>Executives</td>\n",
       "      <td>starbucks</td>\n",
       "      <td>Starbucks</td>\n",
       "      <td>40.415323</td>\n",
       "      <td>-3.694949</td>\n",
       "    </tr>\n",
       "    <tr>\n",
       "      <th>1</th>\n",
       "      <td>Fon</td>\n",
       "      <td>Executives</td>\n",
       "      <td>starbucks</td>\n",
       "      <td>Starbucks</td>\n",
       "      <td>40.418038</td>\n",
       "      <td>-3.699372</td>\n",
       "    </tr>\n",
       "    <tr>\n",
       "      <th>2</th>\n",
       "      <td>Fon</td>\n",
       "      <td>Executives</td>\n",
       "      <td>starbucks</td>\n",
       "      <td>Starbucks</td>\n",
       "      <td>40.420752</td>\n",
       "      <td>-3.699315</td>\n",
       "    </tr>\n",
       "  </tbody>\n",
       "</table>\n",
       "</div>"
      ],
      "text/plain": [
       "  enterprise        team requirements       name    latitud  longitud\n",
       "0        Fon  Executives    starbucks  Starbucks  40.415323 -3.694949\n",
       "1        Fon  Executives    starbucks  Starbucks  40.418038 -3.699372\n",
       "2        Fon  Executives    starbucks  Starbucks  40.420752 -3.699315"
      ]
     },
     "execution_count": 86,
     "metadata": {},
     "output_type": "execute_result"
    }
   ],
   "source": [
    "dfFinal_Fon= pd.concat([gdf_starbucks_2 , gdf_museum_2, gdf_airport_2])\n",
    "dfFinal_Fon[:3] "
   ]
  },
  {
   "cell_type": "code",
   "execution_count": 87,
   "id": "annual-welding",
   "metadata": {},
   "outputs": [
    {
     "data": {
      "text/html": [
       "<div>\n",
       "<style scoped>\n",
       "    .dataframe tbody tr th:only-of-type {\n",
       "        vertical-align: middle;\n",
       "    }\n",
       "\n",
       "    .dataframe tbody tr th {\n",
       "        vertical-align: top;\n",
       "    }\n",
       "\n",
       "    .dataframe thead th {\n",
       "        text-align: right;\n",
       "    }\n",
       "</style>\n",
       "<table border=\"1\" class=\"dataframe\">\n",
       "  <thead>\n",
       "    <tr style=\"text-align: right;\">\n",
       "      <th></th>\n",
       "      <th>enterprise</th>\n",
       "      <th>team</th>\n",
       "      <th>requirements</th>\n",
       "      <th>name</th>\n",
       "      <th>latitud</th>\n",
       "      <th>longitud</th>\n",
       "    </tr>\n",
       "  </thead>\n",
       "  <tbody>\n",
       "    <tr>\n",
       "      <th>0</th>\n",
       "      <td>Fon</td>\n",
       "      <td>Executives</td>\n",
       "      <td>starbucks</td>\n",
       "      <td>Starbucks</td>\n",
       "      <td>40.415323</td>\n",
       "      <td>-3.694949</td>\n",
       "    </tr>\n",
       "    <tr>\n",
       "      <th>1</th>\n",
       "      <td>Fon</td>\n",
       "      <td>Executives</td>\n",
       "      <td>starbucks</td>\n",
       "      <td>Starbucks</td>\n",
       "      <td>40.418038</td>\n",
       "      <td>-3.699372</td>\n",
       "    </tr>\n",
       "    <tr>\n",
       "      <th>2</th>\n",
       "      <td>Fon</td>\n",
       "      <td>Executives</td>\n",
       "      <td>starbucks</td>\n",
       "      <td>Starbucks</td>\n",
       "      <td>40.420752</td>\n",
       "      <td>-3.699315</td>\n",
       "    </tr>\n",
       "  </tbody>\n",
       "</table>\n",
       "</div>"
      ],
      "text/plain": [
       "  enterprise        team requirements       name    latitud  longitud\n",
       "0        Fon  Executives    starbucks  Starbucks  40.415323 -3.694949\n",
       "1        Fon  Executives    starbucks  Starbucks  40.418038 -3.699372\n",
       "2        Fon  Executives    starbucks  Starbucks  40.420752 -3.699315"
      ]
     },
     "execution_count": 87,
     "metadata": {},
     "output_type": "execute_result"
    }
   ],
   "source": [
    "dfFinal = pd.concat([dfFinal_Fon , dfFinal_Tuenti])\n",
    "dfFinal[:3]"
   ]
  },
  {
   "cell_type": "markdown",
   "id": "piano-shareware",
   "metadata": {},
   "source": [
    "## Exportacion de datos"
   ]
  },
  {
   "cell_type": "code",
   "execution_count": 77,
   "id": "laughing-mathematics",
   "metadata": {},
   "outputs": [],
   "source": [
    "dfFinal.to_csv(\"../data/final.csv\", index = False)"
   ]
  },
  {
   "cell_type": "code",
   "execution_count": 78,
   "id": "dress-stereo",
   "metadata": {},
   "outputs": [],
   "source": [
    "dfFinal_Fon.to_csv(\"../data/Fon.csv\", index = False)"
   ]
  },
  {
   "cell_type": "code",
   "execution_count": 79,
   "id": "hollow-price",
   "metadata": {},
   "outputs": [],
   "source": [
    "dfFinal_Tuenti.to_csv(\"../data/Tuenti.csv\", index = False)"
   ]
  }
 ],
 "metadata": {
  "kernelspec": {
   "display_name": "Python 3",
   "language": "python",
   "name": "python3"
  },
  "language_info": {
   "codemirror_mode": {
    "name": "ipython",
    "version": 3
   },
   "file_extension": ".py",
   "mimetype": "text/x-python",
   "name": "python",
   "nbconvert_exporter": "python",
   "pygments_lexer": "ipython3",
   "version": "3.9.1"
  },
  "varInspector": {
   "cols": {
    "lenName": 16,
    "lenType": 16,
    "lenVar": 40
   },
   "kernels_config": {
    "python": {
     "delete_cmd_postfix": "",
     "delete_cmd_prefix": "del ",
     "library": "var_list.py",
     "varRefreshCmd": "print(var_dic_list())"
    },
    "r": {
     "delete_cmd_postfix": ") ",
     "delete_cmd_prefix": "rm(",
     "library": "var_list.r",
     "varRefreshCmd": "cat(var_dic_list()) "
    }
   },
   "types_to_exclude": [
    "module",
    "function",
    "builtin_function_or_method",
    "instance",
    "_Feature"
   ],
   "window_display": false
  }
 },
 "nbformat": 4,
 "nbformat_minor": 5
}
