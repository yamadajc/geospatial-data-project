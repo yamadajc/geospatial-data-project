{
 "cells": [
  {
   "cell_type": "markdown",
   "id": "qualified-publicity",
   "metadata": {},
   "source": [
    "### Librerias "
   ]
  },
  {
   "cell_type": "code",
   "execution_count": 3,
   "id": "eastern-counter",
   "metadata": {},
   "outputs": [],
   "source": [
    "import pymongo\n",
    "from pymongo import MongoClient\n",
    "\n",
    "import pandas as pd\n",
    "from pandas import DataFrame\n",
    "from pandas.io.json import json_normalize"
   ]
  },
  {
   "cell_type": "markdown",
   "id": "excited-bracelet",
   "metadata": {},
   "source": [
    "### Conexion a Mongo "
   ]
  },
  {
   "cell_type": "code",
   "execution_count": 4,
   "id": "mysterious-praise",
   "metadata": {},
   "outputs": [],
   "source": [
    "client = MongoClient()"
   ]
  },
  {
   "cell_type": "code",
   "execution_count": 8,
   "id": "psychological-authentication",
   "metadata": {},
   "outputs": [],
   "source": [
    "companies = client.ironhack.ironCollection\n"
   ]
  },
  {
   "cell_type": "markdown",
   "id": "quarterly-bangladesh",
   "metadata": {},
   "source": [
    "### Seleccion de empresas "
   ]
  },
  {
   "cell_type": "markdown",
   "id": "competitive-concentrate",
   "metadata": {},
   "source": [
    "Aplicamos los criterios de busqueda de: \n",
    "- localizacion en territorio español\n",
    "- haber cerrado rondas de financiacion por valor de 1.000.000€\n",
    "- empresa fundada en el siglo XXI"
   ]
  },
  {
   "cell_type": "code",
   "execution_count": 6,
   "id": "subject-proof",
   "metadata": {},
   "outputs": [
    {
     "data": {
      "text/plain": [
       "[{'name': 'Fon',\n",
       "  'category_code': 'mobile',\n",
       "  'number_of_employees': 100,\n",
       "  'founded_year': 2006,\n",
       "  'offices': [{'city': 'Madrid',\n",
       "    'latitude': 40.530724,\n",
       "    'longitude': -3.632687}]},\n",
       " {'name': 'Tuenti Technologies',\n",
       "  'category_code': 'social',\n",
       "  'number_of_employees': 170,\n",
       "  'founded_year': 2006,\n",
       "  'offices': [{'city': 'Madrid',\n",
       "    'latitude': 40.4158236,\n",
       "    'longitude': -3.696277}]}]"
      ]
     },
     "execution_count": 6,
     "metadata": {},
     "output_type": "execute_result"
    }
   ],
   "source": [
    "filt =   {'$and':[\n",
    "        {'offices.country_code': {'$eq': \"ESP\"}},\n",
    "        {'name': {'$ne': None}},\n",
    "        {'founded_year':{'$gte':2001}},\n",
    "        {'offices.latitude': {'$ne': None}},\n",
    "        {'offices.longitude': {'$ne': None}},\n",
    "        {\"funding_rounds.raised_amount\":{\"$gt\":1_000_000}},\n",
    "        {'number_of_employees':{'$gte': 87}}\n",
    "                \n",
    "        ]}\n",
    "project =  {'_id': 0, 'name' : 1,'offices.city':1, 'category_code' : 1, 'number_of_employees' : 1,\n",
    "     'founded_year' : 1, 'offices.latitude' : 1, 'offices.longitude' : 1 }\n",
    "result = companies.find(filt, project)\n",
    "result = list(result)\n",
    "result"
   ]
  },
  {
   "cell_type": "markdown",
   "id": "fixed-mexican",
   "metadata": {},
   "source": [
    "Como indican los resultados de la base de datos a la que tenemos acceso deberiamos instalar nuestras nuevas oficinas en la ciudad de madrid."
   ]
  },
  {
   "cell_type": "code",
   "execution_count": 10,
   "id": "clean-rebecca",
   "metadata": {
    "scrolled": true
   },
   "outputs": [
    {
     "name": "stderr",
     "output_type": "stream",
     "text": [
      "<ipython-input-10-36361e7fe869>:1: FutureWarning: pandas.io.json.json_normalize is deprecated, use pandas.json_normalize instead\n",
      "  data = json_normalize(data =result, record_path = 'offices', meta = ['name', 'category_code', 'number_of_employees', 'founded_year'])\n"
     ]
    },
    {
     "data": {
      "text/html": [
       "<div>\n",
       "<style scoped>\n",
       "    .dataframe tbody tr th:only-of-type {\n",
       "        vertical-align: middle;\n",
       "    }\n",
       "\n",
       "    .dataframe tbody tr th {\n",
       "        vertical-align: top;\n",
       "    }\n",
       "\n",
       "    .dataframe thead th {\n",
       "        text-align: right;\n",
       "    }\n",
       "</style>\n",
       "<table border=\"1\" class=\"dataframe\">\n",
       "  <thead>\n",
       "    <tr style=\"text-align: right;\">\n",
       "      <th></th>\n",
       "      <th>city</th>\n",
       "      <th>latitude</th>\n",
       "      <th>longitude</th>\n",
       "      <th>name</th>\n",
       "      <th>category_code</th>\n",
       "      <th>number_of_employees</th>\n",
       "      <th>founded_year</th>\n",
       "    </tr>\n",
       "  </thead>\n",
       "  <tbody>\n",
       "    <tr>\n",
       "      <th>0</th>\n",
       "      <td>Madrid</td>\n",
       "      <td>40.530724</td>\n",
       "      <td>-3.632687</td>\n",
       "      <td>Fon</td>\n",
       "      <td>mobile</td>\n",
       "      <td>100</td>\n",
       "      <td>2006</td>\n",
       "    </tr>\n",
       "    <tr>\n",
       "      <th>1</th>\n",
       "      <td>Madrid</td>\n",
       "      <td>40.415824</td>\n",
       "      <td>-3.696277</td>\n",
       "      <td>Tuenti Technologies</td>\n",
       "      <td>social</td>\n",
       "      <td>170</td>\n",
       "      <td>2006</td>\n",
       "    </tr>\n",
       "  </tbody>\n",
       "</table>\n",
       "</div>"
      ],
      "text/plain": [
       "     city   latitude  longitude                 name category_code  \\\n",
       "0  Madrid  40.530724  -3.632687                  Fon        mobile   \n",
       "1  Madrid  40.415824  -3.696277  Tuenti Technologies        social   \n",
       "\n",
       "  number_of_employees founded_year  \n",
       "0                 100         2006  \n",
       "1                 170         2006  "
      ]
     },
     "execution_count": 10,
     "metadata": {},
     "output_type": "execute_result"
    }
   ],
   "source": [
    "data = json_normalize(data =result, record_path = 'offices', meta = ['name', 'category_code', 'number_of_employees', 'founded_year'])\n",
    "data"
   ]
  },
  {
   "cell_type": "markdown",
   "id": "conceptual-rochester",
   "metadata": {},
   "source": [
    "### Exportacion de datos "
   ]
  },
  {
   "cell_type": "code",
   "execution_count": 10,
   "id": "guilty-musician",
   "metadata": {},
   "outputs": [],
   "source": [
    "data.to_csv(\"../data/companies.csv\", index=False)"
   ]
  }
 ],
 "metadata": {
  "kernelspec": {
   "display_name": "Python 3",
   "language": "python",
   "name": "python3"
  },
  "language_info": {
   "codemirror_mode": {
    "name": "ipython",
    "version": 3
   },
   "file_extension": ".py",
   "mimetype": "text/x-python",
   "name": "python",
   "nbconvert_exporter": "python",
   "pygments_lexer": "ipython3",
   "version": "3.9.1"
  },
  "varInspector": {
   "cols": {
    "lenName": 16,
    "lenType": 16,
    "lenVar": 40
   },
   "kernels_config": {
    "python": {
     "delete_cmd_postfix": "",
     "delete_cmd_prefix": "del ",
     "library": "var_list.py",
     "varRefreshCmd": "print(var_dic_list())"
    },
    "r": {
     "delete_cmd_postfix": ") ",
     "delete_cmd_prefix": "rm(",
     "library": "var_list.r",
     "varRefreshCmd": "cat(var_dic_list()) "
    }
   },
   "types_to_exclude": [
    "module",
    "function",
    "builtin_function_or_method",
    "instance",
    "_Feature"
   ],
   "window_display": false
  }
 },
 "nbformat": 4,
 "nbformat_minor": 5
}
